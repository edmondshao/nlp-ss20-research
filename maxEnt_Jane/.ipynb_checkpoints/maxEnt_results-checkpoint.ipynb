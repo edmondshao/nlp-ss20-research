{
 "cells": [
  {
   "cell_type": "code",
   "execution_count": 3,
   "metadata": {},
   "outputs": [
    {
     "name": "stdout",
     "output_type": "stream",
     "text": [
      "\n",
      "\n",
      "Accuracy is  78.67 %\n",
      "Precision is  0.83\n",
      "Recall is  0.76\n",
      "\n",
      "\n",
      "Confusion Matrix:\n",
      " [[110  25]\n",
      " [ 39 126]]\n"
     ]
    }
   ],
   "source": [
    "  \n",
    "#import the files \n",
    "import re \n",
    "import nltk\n",
    "import ssl\n",
    "import pandas as pd \n",
    "import numpy as np\n",
    "from nltk.corpus import stopwords\n",
    "from nltk.stem.porter import PorterStemmer\n",
    "from sklearn.feature_extraction.text import CountVectorizer\n",
    "from sklearn.naive_bayes import BernoulliNB\n",
    "from sklearn.metrics import confusion_matrix\n",
    "from sklearn.metrics import accuracy_score\n",
    "from sklearn.metrics import precision_score\n",
    "from sklearn.metrics import recall_score\n",
    "from sklearn import linear_model\n",
    "import scipy.stats as ss\n",
    "import seaborn as sns\n",
    "#from sklearn.metrics import f1_Score\n",
    "\n",
    "cv = CountVectorizer()\n",
    "train_data_2 = pd.read_csv('training_set.csv')\n",
    "test_data = pd.read_csv('testing_set.csv')\n",
    "\n",
    "\n",
    "X_train = cv.fit_transform(train_data_2[\"Review\"]).toarray()\n",
    "y_train = train_data_2[\"Liked\"].values\n",
    "X_test = cv.transform(test_data[\"Review\"]).toarray()\n",
    "y_test = test_data[\"Liked\"].values\n",
    "\n",
    "\n",
    "\n",
    "#(X, y) = (features matrix, labels)\n",
    "maxent = linear_model.LogisticRegression(penalty = 'l2', C=1.0)\n",
    "maxent.fit(X_train, y_train)\n",
    "#print (maxent.coef_)\n",
    "#Matrix with shape (n classes, n features)\n",
    "\n",
    "#predict vector with (integer) labels\n",
    "y_predicted = maxent.predict(X_test)\n",
    "test_accuracy = accuracy_score(y_test, y_predicted)\n",
    "\n",
    "\n",
    "# probability distribution over all possible classes\n",
    "# Shape: (n_instances, n_classes)\n",
    "y_probs = maxent.predict_proba(X_test)\n",
    "score2 = precision_score(y_test,y_predicted)\n",
    "score3= recall_score(y_test,y_predicted)\n",
    "print(\"\\n\")\n",
    "print(\"Accuracy is \",round(test_accuracy*100,2),\"%\")\n",
    "print(\"Precision is \",round(score2,2))\n",
    "print(\"Recall is \",round(score3,2))\n",
    "print(\"\\n\")\n",
    "\n",
    "#confusion matrix\n",
    "cm = confusion_matrix(y_test, y_predicted)\n",
    "print(\"Confusion Matrix:\\n\", cm)"
   ]
  },
  {
   "cell_type": "code",
   "execution_count": 4,
   "metadata": {},
   "outputs": [],
   "source": [
    "#final\n",
    "business = pd.read_csv(\"final_business.csv\")\n",
    "reviews = pd.read_csv(\"cleanish_reviews.csv\")\n",
    "ids = pd.read_csv('list_buiss_id.txt', sep = \" \", header = None)\n",
    "ids.columns = [\"id\"]"
   ]
  },
  {
   "cell_type": "code",
   "execution_count": 5,
   "metadata": {},
   "outputs": [],
   "source": [
    "columns = [\"business_id\", \"business_name\", \"our_score\", \"stars\"]\n",
    "results = pd.DataFrame(columns = columns)"
   ]
  },
  {
   "cell_type": "code",
   "execution_count": 6,
   "metadata": {},
   "outputs": [],
   "source": [
    "for i in range(len(ids)):\n",
    "    id_curr = ids.iloc[i].id\n",
    "\n",
    "    all_reviews = reviews[reviews[\"business_id\"]== id_curr]\n",
    "\n",
    "    X_test = cv.transform(all_reviews[\"text\"]).toarray()\n",
    "\n",
    "    y_pred = maxent.predict(X_test)\n",
    "\n",
    "    y_pred = np.mean(y_pred) * 100\n",
    "\n",
    "    curr_buis = business.loc[business[\"business_id\"]== id_curr]\n",
    "\n",
    "    curr_star = (curr_buis[\"stars\"].values[0]/5)*100\n",
    "\n",
    "    results = results.append({\"business_id\":id_curr, \"business_nanme\":curr_buis[\"name\"].values[0],\"our_score\":y_pred, \"stars\":curr_star}, ignore_index = True)"
   ]
  },
  {
   "cell_type": "code",
   "execution_count": 7,
   "metadata": {},
   "outputs": [
    {
     "data": {
      "text/html": [
       "<div>\n",
       "<style scoped>\n",
       "    .dataframe tbody tr th:only-of-type {\n",
       "        vertical-align: middle;\n",
       "    }\n",
       "\n",
       "    .dataframe tbody tr th {\n",
       "        vertical-align: top;\n",
       "    }\n",
       "\n",
       "    .dataframe thead th {\n",
       "        text-align: right;\n",
       "    }\n",
       "</style>\n",
       "<table border=\"1\" class=\"dataframe\">\n",
       "  <thead>\n",
       "    <tr style=\"text-align: right;\">\n",
       "      <th></th>\n",
       "      <th>business_id</th>\n",
       "      <th>business_name</th>\n",
       "      <th>our_score</th>\n",
       "      <th>stars</th>\n",
       "      <th>business_nanme</th>\n",
       "    </tr>\n",
       "  </thead>\n",
       "  <tbody>\n",
       "    <tr>\n",
       "      <th>0</th>\n",
       "      <td>s2B_ZeSGTlQ3qbm0dOY5rg</td>\n",
       "      <td>NaN</td>\n",
       "      <td>51.351351</td>\n",
       "      <td>60.0</td>\n",
       "      <td>Hwy 55 Burgers Shakes &amp; Fries</td>\n",
       "    </tr>\n",
       "    <tr>\n",
       "      <th>1</th>\n",
       "      <td>tYYJYqbw1zasFUCqrkawKQ</td>\n",
       "      <td>NaN</td>\n",
       "      <td>68.055556</td>\n",
       "      <td>70.0</td>\n",
       "      <td>Eagles Buffet</td>\n",
       "    </tr>\n",
       "    <tr>\n",
       "      <th>2</th>\n",
       "      <td>wtDLILBaj5BGEbYvWGfNUw</td>\n",
       "      <td>NaN</td>\n",
       "      <td>86.666667</td>\n",
       "      <td>80.0</td>\n",
       "      <td>Duck Donuts</td>\n",
       "    </tr>\n",
       "    <tr>\n",
       "      <th>3</th>\n",
       "      <td>Mnu3EPpuzu3UUN1PIwFRoQ</td>\n",
       "      <td>NaN</td>\n",
       "      <td>94.230769</td>\n",
       "      <td>90.0</td>\n",
       "      <td>Maui Pasta</td>\n",
       "    </tr>\n",
       "    <tr>\n",
       "      <th>4</th>\n",
       "      <td>MrSHPvHVdE_VzVN7iRz45Q</td>\n",
       "      <td>NaN</td>\n",
       "      <td>65.797101</td>\n",
       "      <td>70.0</td>\n",
       "      <td>Enso Asian Bistro &amp; Sushi Bar</td>\n",
       "    </tr>\n",
       "  </tbody>\n",
       "</table>\n",
       "</div>"
      ],
      "text/plain": [
       "              business_id  business_name  our_score  stars  \\\n",
       "0  s2B_ZeSGTlQ3qbm0dOY5rg            NaN  51.351351   60.0   \n",
       "1  tYYJYqbw1zasFUCqrkawKQ            NaN  68.055556   70.0   \n",
       "2  wtDLILBaj5BGEbYvWGfNUw            NaN  86.666667   80.0   \n",
       "3  Mnu3EPpuzu3UUN1PIwFRoQ            NaN  94.230769   90.0   \n",
       "4  MrSHPvHVdE_VzVN7iRz45Q            NaN  65.797101   70.0   \n",
       "\n",
       "                  business_nanme  \n",
       "0  Hwy 55 Burgers Shakes & Fries  \n",
       "1                  Eagles Buffet  \n",
       "2                    Duck Donuts  \n",
       "3                     Maui Pasta  \n",
       "4  Enso Asian Bistro & Sushi Bar  "
      ]
     },
     "execution_count": 7,
     "metadata": {},
     "output_type": "execute_result"
    }
   ],
   "source": [
    "results.head()"
   ]
  },
  {
   "cell_type": "code",
   "execution_count": 8,
   "metadata": {},
   "outputs": [
    {
     "data": {
      "text/plain": [
       "(0.8511565046734014, 3.4837737606572594e-29)"
      ]
     },
     "execution_count": 8,
     "metadata": {},
     "output_type": "execute_result"
    }
   ],
   "source": [
    "ss.pearsonr(results[\"our_score\"], results[\"stars\"])"
   ]
  },
  {
   "cell_type": "code",
   "execution_count": 9,
   "metadata": {},
   "outputs": [
    {
     "data": {
      "image/png": "[encoded data removed]",
      "text/plain": [
       "<Figure size 360x360 with 1 Axes>"
      ]
     },
     "metadata": {
      "needs_background": "light"
     },
     "output_type": "display_data"
    }
   ],
   "source": [
    "g = sns.lmplot(x=\"our_score\", y =\"stars\", data = results)"
   ]
  },
  {
   "cell_type": "code",
   "execution_count": 10,
   "metadata": {},
   "outputs": [
    {
     "data": {
      "text/html": [
       "<div>\n",
       "<style scoped>\n",
       "    .dataframe tbody tr th:only-of-type {\n",
       "        vertical-align: middle;\n",
       "    }\n",
       "\n",
       "    .dataframe tbody tr th {\n",
       "        vertical-align: top;\n",
       "    }\n",
       "\n",
       "    .dataframe thead th {\n",
       "        text-align: right;\n",
       "    }\n",
       "</style>\n",
       "<table border=\"1\" class=\"dataframe\">\n",
       "  <thead>\n",
       "    <tr style=\"text-align: right;\">\n",
       "      <th></th>\n",
       "      <th>our_score</th>\n",
       "      <th>stars</th>\n",
       "    </tr>\n",
       "  </thead>\n",
       "  <tbody>\n",
       "    <tr>\n",
       "      <th>our_score</th>\n",
       "      <td>1.000000</td>\n",
       "      <td>0.851157</td>\n",
       "    </tr>\n",
       "    <tr>\n",
       "      <th>stars</th>\n",
       "      <td>0.851157</td>\n",
       "      <td>1.000000</td>\n",
       "    </tr>\n",
       "  </tbody>\n",
       "</table>\n",
       "</div>"
      ],
      "text/plain": [
       "           our_score     stars\n",
       "our_score   1.000000  0.851157\n",
       "stars       0.851157  1.000000"
      ]
     },
     "execution_count": 10,
     "metadata": {},
     "output_type": "execute_result"
    }
   ],
   "source": [
    "results.filter(items = [\"our_score\", 'stars']).corr()"
   ]
  },
  {
   "cell_type": "code",
   "execution_count": null,
   "metadata": {},
   "outputs": [],
   "source": []
  }
 ],
 "metadata": {
  "kernelspec": {
   "display_name": "Python 3",
   "language": "python",
   "name": "python3"
  },
  "language_info": {
   "codemirror_mode": {
    "name": "ipython",
    "version": 3
   },
   "file_extension": ".py",
   "mimetype": "text/x-python",
   "name": "python",
   "nbconvert_exporter": "python",
   "pygments_lexer": "ipython3",
   "version": "3.8.1"
  }
 },
 "nbformat": 4,
 "nbformat_minor": 4
}
