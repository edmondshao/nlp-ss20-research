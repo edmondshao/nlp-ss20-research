{
 "cells": [
  {
   "cell_type": "code",
   "execution_count": 16,
   "metadata": {},
   "outputs": [
    {
     "name": "stdout",
     "output_type": "stream",
     "text": [
      "SVM Accuracy Score ->  75.33333333333333 %\n",
      "SVM Precision Score ->  0.7\n",
      "SVM Recall Score ->  0.82\n"
     ]
    }
   ],
   "source": [
    "import numpy as np\n",
    "import pandas as pd\n",
    "import nltk\n",
    "import sklearn\n",
    "import re\n",
    "from nltk.corpus import stopwords\n",
    "from sklearn.feature_extraction.text import CountVectorizer\n",
    "from sklearn import svm\n",
    "from sklearn.metrics import accuracy_score, precision_score, recall_score\n",
    "import scipy.stats as ss\n",
    "import seaborn as sns\n",
    "#nltk.download('stopwords')\n",
    "\n",
    "# import the dataset\n",
    "training_dataset = pd.read_csv('../answer-key/training_set.csv')\n",
    "testing_dataset = pd.read_csv('../answer-key/testing_set.csv')\n",
    "\n",
    "# preprocess dataset: remove stopwords, numeric, and stop characters\n",
    "training_corpus = []\n",
    "for i in range(0, 700):\n",
    "    review = re.sub('[^a-zA-Z]', ' ', training_dataset['Review'][i])\n",
    "    review = review.lower()\n",
    "    review = review.split()\n",
    "    review = [word for word in review if not word in set(stopwords.words('english'))]\n",
    "    review = ' '.join(review)\n",
    "    training_corpus.append(review)\n",
    "\n",
    "# create bag of words model (use vectorization technique to convert textual data to numerical format), way to extract features from the text, find the frequency of each word\n",
    "# create the transform (using count word occurrence), keyword will occur again and again, number of occurrences = importance of word\n",
    "# more frequency means more importance\n",
    "cv = CountVectorizer()\n",
    "\n",
    "# # summarize\n",
    "# print(cv.vocabulary_)\n",
    "\n",
    "# #encode document\n",
    "count_occurs_train = cv.fit_transform(training_corpus).toarray()\n",
    "y_train = training_dataset.iloc[:, 2].values\n",
    "# print(y_train)\n",
    "\n",
    "# # training dataset -> used to fit the model, testing dataset -> used to perform the predictions\n",
    "\n",
    "testing_corpus = []\n",
    "for i in range(0, 300):\n",
    "    review = re.sub('[^a-zA-Z]', ' ', testing_dataset['Review'][i])\n",
    "    review = review.lower()\n",
    "    review = review.split()\n",
    "    review = [word for word in review if not word in set(stopwords.words('english'))]\n",
    "    review = ' '.join(review)\n",
    "    testing_corpus.append(review)\n",
    "\n",
    "count_occurs_test = cv.transform(testing_corpus).toarray()\n",
    "y_test = testing_dataset.iloc[:, 2].values\n",
    "\n",
    "# SVM machine learning algorithm for classification, train the model\n",
    "SVM = svm.SVC(C=1.0, kernel='linear', degree=3, gamma='auto')\n",
    "SVM.fit(count_occurs_train,y_train)\n",
    "\n",
    "# Predicting the test set results\n",
    "predictions_SVM = SVM.predict(count_occurs_test)\n",
    "\n",
    "print(\"SVM Accuracy Score -> \", accuracy_score(predictions_SVM, y_test) * 100, '%')\n",
    "print(\"SVM Precision Score -> \", round(precision_score(predictions_SVM, y_test), 2))\n",
    "print(\"SVM Recall Score -> \", round(recall_score(predictions_SVM, y_test), 2))\n",
    "\n",
    "## Approximate Results: \n",
    "# SVM Accuracy Score ->  75.66666666666667 %\n",
    "# SVM Precision Score ->  0.7\n",
    "# SVM Recall Score ->  0.83"
   ]
  },
  {
   "cell_type": "code",
   "execution_count": 17,
   "metadata": {},
   "outputs": [],
   "source": [
    "business = pd.read_csv(\"cleaned_business.csv\")\n",
    "reviews = pd.read_csv(\"cleanish_reviews.csv\") \n",
    "ids = pd.read_csv('list_buiss_id.txt', sep=\" \", header=None)\n",
    "ids.columns = [\"id\"]"
   ]
  },
  {
   "cell_type": "code",
   "execution_count": 18,
   "metadata": {},
   "outputs": [],
   "source": [
    "columns = [\"business_id\", \"business_name\", \"our_score\", \"stars\"]\n",
    "final_results = pd.DataFrame(columns=columns)"
   ]
  },
  {
   "cell_type": "code",
   "execution_count": 19,
   "metadata": {},
   "outputs": [],
   "source": [
    "for i in range(len(ids)): \n",
    "    id_curr = ids.iloc[i].id\n",
    "    \n",
    "    #Review data that matches the current business id \n",
    "    all_reviews = reviews[reviews[\"business_id\"] == id_curr]\n",
    "    \n",
    "    #vectorize the reviews for that resturant\n",
    "    X_test = cv.transform(all_reviews[\"text\"]).toarray()\n",
    "    #creates the predicted sentiment for each review(with SVM)\n",
    "    y_pred = SVM.predict(X_test)\n",
    "    #you dont have to round \n",
    "    y_pred = np.mean(y_pred)*100\n",
    "    #get the row in dataframe of current buis \n",
    "    curr_buis = business.loc[business['business_id'] == id_curr]\n",
    "    #modify the star ratings to the same scale \n",
    "    curr_star = (curr_buis[\"stars\"].values[0]/5)*100\n",
    "    \n",
    "    #update the final dataframe with all the info \n",
    "    final_results = final_results.append({\"business_id\":id_curr, \"business_name\":curr_buis[\"name\"].values[0],\"our_score\":y_pred, \"stars\":curr_star}, ignore_index = True)"
   ]
  },
  {
   "cell_type": "code",
   "execution_count": 22,
   "metadata": {},
   "outputs": [
    {
     "data": {
      "text/html": [
       "<div>\n",
       "<style scoped>\n",
       "    .dataframe tbody tr th:only-of-type {\n",
       "        vertical-align: middle;\n",
       "    }\n",
       "\n",
       "    .dataframe tbody tr th {\n",
       "        vertical-align: top;\n",
       "    }\n",
       "\n",
       "    .dataframe thead th {\n",
       "        text-align: right;\n",
       "    }\n",
       "</style>\n",
       "<table border=\"1\" class=\"dataframe\">\n",
       "  <thead>\n",
       "    <tr style=\"text-align: right;\">\n",
       "      <th></th>\n",
       "      <th>business_id</th>\n",
       "      <th>business_name</th>\n",
       "      <th>our_score</th>\n",
       "      <th>stars</th>\n",
       "    </tr>\n",
       "  </thead>\n",
       "  <tbody>\n",
       "    <tr>\n",
       "      <td>0</td>\n",
       "      <td>s2B_ZeSGTlQ3qbm0dOY5rg</td>\n",
       "      <td>Hwy 55 Burgers Shakes &amp; Fries</td>\n",
       "      <td>58.108108</td>\n",
       "      <td>60.0</td>\n",
       "    </tr>\n",
       "    <tr>\n",
       "      <td>1</td>\n",
       "      <td>tYYJYqbw1zasFUCqrkawKQ</td>\n",
       "      <td>Eagles Buffet</td>\n",
       "      <td>71.527778</td>\n",
       "      <td>70.0</td>\n",
       "    </tr>\n",
       "    <tr>\n",
       "      <td>2</td>\n",
       "      <td>wtDLILBaj5BGEbYvWGfNUw</td>\n",
       "      <td>Duck Donuts</td>\n",
       "      <td>88.333333</td>\n",
       "      <td>80.0</td>\n",
       "    </tr>\n",
       "    <tr>\n",
       "      <td>3</td>\n",
       "      <td>Mnu3EPpuzu3UUN1PIwFRoQ</td>\n",
       "      <td>Maui Pasta</td>\n",
       "      <td>92.307692</td>\n",
       "      <td>90.0</td>\n",
       "    </tr>\n",
       "    <tr>\n",
       "      <td>4</td>\n",
       "      <td>MrSHPvHVdE_VzVN7iRz45Q</td>\n",
       "      <td>Enso Asian Bistro &amp; Sushi Bar</td>\n",
       "      <td>80.289855</td>\n",
       "      <td>70.0</td>\n",
       "    </tr>\n",
       "  </tbody>\n",
       "</table>\n",
       "</div>"
      ],
      "text/plain": [
       "              business_id                  business_name  our_score  stars\n",
       "0  s2B_ZeSGTlQ3qbm0dOY5rg  Hwy 55 Burgers Shakes & Fries  58.108108   60.0\n",
       "1  tYYJYqbw1zasFUCqrkawKQ                  Eagles Buffet  71.527778   70.0\n",
       "2  wtDLILBaj5BGEbYvWGfNUw                    Duck Donuts  88.333333   80.0\n",
       "3  Mnu3EPpuzu3UUN1PIwFRoQ                     Maui Pasta  92.307692   90.0\n",
       "4  MrSHPvHVdE_VzVN7iRz45Q  Enso Asian Bistro & Sushi Bar  80.289855   70.0"
      ]
     },
     "execution_count": 22,
     "metadata": {},
     "output_type": "execute_result"
    }
   ],
   "source": [
    "final_results.head()"
   ]
  },
  {
   "cell_type": "code",
   "execution_count": 23,
   "metadata": {},
   "outputs": [
    {
     "data": {
      "text/plain": [
       "(0.8029082830984751, 9.542213002753587e-24)"
      ]
     },
     "execution_count": 23,
     "metadata": {},
     "output_type": "execute_result"
    }
   ],
   "source": [
    "ss.pearsonr(final_results[\"our_score\"], final_results[\"stars\"])"
   ]
  },
  {
   "cell_type": "code",
   "execution_count": 24,
   "metadata": {},
   "outputs": [
    {
     "data": {
      "image/png": "[encoded data removed]",
      "text/plain": [
       "<Figure size 360x360 with 1 Axes>"
      ]
     },
     "metadata": {
      "needs_background": "light"
     },
     "output_type": "display_data"
    }
   ],
   "source": [
    "# visualize correlation with pretty graph\n",
    "g = sns.lmplot(x=\"our_score\", y=\"stars\", data=final_results)"
   ]
  },
  {
   "cell_type": "code",
   "execution_count": null,
   "metadata": {},
   "outputs": [],
   "source": [
    "final_results.filter(items=[\"our_score\",'stars']).corr()"
   ]
  }
 ],
 "metadata": {
  "kernelspec": {
   "display_name": "Python 3",
   "language": "python",
   "name": "python3"
  },
  "language_info": {
   "codemirror_mode": {
    "name": "ipython",
    "version": 3
   },
   "file_extension": ".py",
   "mimetype": "text/x-python",
   "name": "python",
   "nbconvert_exporter": "python",
   "pygments_lexer": "ipython3",
   "version": "3.7.7"
  }
 },
 "nbformat": 4,
 "nbformat_minor": 2
}
