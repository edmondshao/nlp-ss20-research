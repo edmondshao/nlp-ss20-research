{
 "cells": [
  {
   "cell_type": "code",
   "execution_count": 1,
   "metadata": {},
   "outputs": [
    {
     "name": "stderr",
     "output_type": "stream",
     "text": [
      "[nltk_data] Downloading package vader_lexicon to\n",
      "[nltk_data]     /Users/seul/nltk_data...\n",
      "[nltk_data]   Package vader_lexicon is already up-to-date!\n"
     ]
    }
   ],
   "source": [
    "import re \n",
    "import nltk\n",
    "import ssl\n",
    "import pandas as pd \n",
    "import numpy as np\n",
    "import scipy.stats as ss\n",
    "import seaborn as sns\n",
    "from sklearn.metrics import confusion_matrix\n",
    "\n",
    "nltk.download('vader_lexicon')\n",
    "from nltk.sentiment.vader import SentimentIntensityAnalyzer"
   ]
  },
  {
   "cell_type": "code",
   "execution_count": 2,
   "metadata": {},
   "outputs": [],
   "source": [
    "vader = SentimentIntensityAnalyzer()"
   ]
  },
  {
   "cell_type": "code",
   "execution_count": 3,
   "metadata": {},
   "outputs": [
    {
     "data": {
      "text/html": [
       "<div>\n",
       "<style scoped>\n",
       "    .dataframe tbody tr th:only-of-type {\n",
       "        vertical-align: middle;\n",
       "    }\n",
       "\n",
       "    .dataframe tbody tr th {\n",
       "        vertical-align: top;\n",
       "    }\n",
       "\n",
       "    .dataframe thead th {\n",
       "        text-align: right;\n",
       "    }\n",
       "</style>\n",
       "<table border=\"1\" class=\"dataframe\">\n",
       "  <thead>\n",
       "    <tr style=\"text-align: right;\">\n",
       "      <th></th>\n",
       "      <th>Unnamed: 0</th>\n",
       "      <th>Review</th>\n",
       "      <th>Liked</th>\n",
       "    </tr>\n",
       "  </thead>\n",
       "  <tbody>\n",
       "    <tr>\n",
       "      <th>0</th>\n",
       "      <td>0</td>\n",
       "      <td>Wow... Loved this place.</td>\n",
       "      <td>1</td>\n",
       "    </tr>\n",
       "    <tr>\n",
       "      <th>1</th>\n",
       "      <td>1</td>\n",
       "      <td>Crust is not good.</td>\n",
       "      <td>0</td>\n",
       "    </tr>\n",
       "    <tr>\n",
       "      <th>2</th>\n",
       "      <td>2</td>\n",
       "      <td>Not tasty and the texture was just nasty.</td>\n",
       "      <td>0</td>\n",
       "    </tr>\n",
       "    <tr>\n",
       "      <th>3</th>\n",
       "      <td>3</td>\n",
       "      <td>Stopped by during the late May bank holiday of...</td>\n",
       "      <td>1</td>\n",
       "    </tr>\n",
       "    <tr>\n",
       "      <th>4</th>\n",
       "      <td>4</td>\n",
       "      <td>The selection on the menu was great and so wer...</td>\n",
       "      <td>1</td>\n",
       "    </tr>\n",
       "  </tbody>\n",
       "</table>\n",
       "</div>"
      ],
      "text/plain": [
       "   Unnamed: 0                                             Review  Liked\n",
       "0           0                           Wow... Loved this place.      1\n",
       "1           1                                 Crust is not good.      0\n",
       "2           2          Not tasty and the texture was just nasty.      0\n",
       "3           3  Stopped by during the late May bank holiday of...      1\n",
       "4           4  The selection on the menu was great and so wer...      1"
      ]
     },
     "execution_count": 3,
     "metadata": {},
     "output_type": "execute_result"
    }
   ],
   "source": [
    "data = pd.read_csv('../answer-key/testing_set.csv')\n",
    "data.head()"
   ]
  },
  {
   "cell_type": "code",
   "execution_count": 4,
   "metadata": {},
   "outputs": [],
   "source": [
    "all_scores = []\n",
    "answers = []\n",
    "compound = []"
   ]
  },
  {
   "cell_type": "code",
   "execution_count": 5,
   "metadata": {},
   "outputs": [],
   "source": [
    "for i in range(len(data)): \n",
    "    review = data.iloc[i].Review \n",
    "    liked = data.iloc[i].Liked\n",
    "    \n",
    "    current = vader.polarity_scores(review) \n",
    "    compound.append(current[\"compound\"])\n",
    "    if current[\"compound\"] < 0: \n",
    "        all_scores.append(0)\n",
    "    else: \n",
    "        all_scores.append(1)\n",
    "        \n",
    "    answers.append(liked)"
   ]
  },
  {
   "cell_type": "code",
   "execution_count": 6,
   "metadata": {},
   "outputs": [
    {
     "name": "stdout",
     "output_type": "stream",
     "text": [
      "229\n"
     ]
    }
   ],
   "source": [
    "counter = 0\n",
    "for i in range(len(answers)):\n",
    "    if all_scores[i] == answers[i]: \n",
    "        counter += 1\n",
    "\n",
    "print(counter)"
   ]
  },
  {
   "cell_type": "code",
   "execution_count": 7,
   "metadata": {},
   "outputs": [
    {
     "name": "stdout",
     "output_type": "stream",
     "text": [
      "0.7633333333333333\n"
     ]
    }
   ],
   "source": [
    "print(counter/len(answers))"
   ]
  },
  {
   "cell_type": "code",
   "execution_count": 8,
   "metadata": {},
   "outputs": [
    {
     "name": "stdout",
     "output_type": "stream",
     "text": [
      "Confusion Matrix:\n",
      " [[ 69   5]\n",
      " [ 66 160]]\n"
     ]
    }
   ],
   "source": [
    "cm = confusion_matrix(all_scores, answers)\n",
    "print (\"Confusion Matrix:\\n\",cm)"
   ]
  },
  {
   "cell_type": "code",
   "execution_count": 9,
   "metadata": {},
   "outputs": [],
   "source": [
    "business = pd.read_csv(\"cleaned_business.csv\")\n",
    "reviews = pd.read_csv(\"cleanish_reviews.csv\") \n",
    "ids = pd.read_csv('list_buiss_id.txt', sep=\" \", header=None)\n",
    "ids.columns = [\"id\"]"
   ]
  },
  {
   "cell_type": "code",
   "execution_count": 10,
   "metadata": {},
   "outputs": [],
   "source": [
    "columns = [\"business_id\", \"business_name\", \"our_score\", \"stars\"]\n",
    "final_results = pd.DataFrame(columns=columns)"
   ]
  },
  {
   "cell_type": "code",
   "execution_count": 11,
   "metadata": {},
   "outputs": [],
   "source": [
    "array = []\n",
    "for i in range(len(ids)): \n",
    "    id_curr = ids.iloc[i].id\n",
    "    all_reviews = reviews[reviews[\"business_id\"] == id_curr]\n",
    "    current = vader.polarity_scores(str(all_reviews[\"text\"]))\n",
    "        \n",
    "    curr_buis = business.loc[business['business_id'] == id_curr]\n",
    "    curr_star = (curr_buis[\"stars\"].values[0]/5)*100\n",
    "    \n",
    "    final_results = final_results.append({\"business_id\":id_curr, \"business_name\":curr_buis[\"name\"].values[0],\"our_score\":current[\"compound\"]*100, \"stars\":curr_star}, ignore_index = True)"
   ]
  },
  {
   "cell_type": "code",
   "execution_count": 12,
   "metadata": {},
   "outputs": [
    {
     "data": {
      "text/html": [
       "<div>\n",
       "<style scoped>\n",
       "    .dataframe tbody tr th:only-of-type {\n",
       "        vertical-align: middle;\n",
       "    }\n",
       "\n",
       "    .dataframe tbody tr th {\n",
       "        vertical-align: top;\n",
       "    }\n",
       "\n",
       "    .dataframe thead th {\n",
       "        text-align: right;\n",
       "    }\n",
       "</style>\n",
       "<table border=\"1\" class=\"dataframe\">\n",
       "  <thead>\n",
       "    <tr style=\"text-align: right;\">\n",
       "      <th></th>\n",
       "      <th>business_id</th>\n",
       "      <th>business_name</th>\n",
       "      <th>our_score</th>\n",
       "      <th>stars</th>\n",
       "    </tr>\n",
       "  </thead>\n",
       "  <tbody>\n",
       "    <tr>\n",
       "      <th>0</th>\n",
       "      <td>s2B_ZeSGTlQ3qbm0dOY5rg</td>\n",
       "      <td>Hwy 55 Burgers Shakes &amp; Fries</td>\n",
       "      <td>-80.60</td>\n",
       "      <td>60.0</td>\n",
       "    </tr>\n",
       "    <tr>\n",
       "      <th>1</th>\n",
       "      <td>tYYJYqbw1zasFUCqrkawKQ</td>\n",
       "      <td>Eagles Buffet</td>\n",
       "      <td>31.29</td>\n",
       "      <td>70.0</td>\n",
       "    </tr>\n",
       "    <tr>\n",
       "      <th>2</th>\n",
       "      <td>wtDLILBaj5BGEbYvWGfNUw</td>\n",
       "      <td>Duck Donuts</td>\n",
       "      <td>99.92</td>\n",
       "      <td>80.0</td>\n",
       "    </tr>\n",
       "    <tr>\n",
       "      <th>3</th>\n",
       "      <td>Mnu3EPpuzu3UUN1PIwFRoQ</td>\n",
       "      <td>Maui Pasta</td>\n",
       "      <td>99.95</td>\n",
       "      <td>90.0</td>\n",
       "    </tr>\n",
       "    <tr>\n",
       "      <th>4</th>\n",
       "      <td>MrSHPvHVdE_VzVN7iRz45Q</td>\n",
       "      <td>Enso Asian Bistro &amp; Sushi Bar</td>\n",
       "      <td>98.12</td>\n",
       "      <td>70.0</td>\n",
       "    </tr>\n",
       "    <tr>\n",
       "      <th>5</th>\n",
       "      <td>qGtagj4xXNrF9rIEkiihTw</td>\n",
       "      <td>Orchid Thai</td>\n",
       "      <td>99.92</td>\n",
       "      <td>90.0</td>\n",
       "    </tr>\n",
       "    <tr>\n",
       "      <th>6</th>\n",
       "      <td>uejutOD4_-IUaY5cKkpezg</td>\n",
       "      <td>Rush Espresso Cafe and Wine Bar</td>\n",
       "      <td>96.26</td>\n",
       "      <td>80.0</td>\n",
       "    </tr>\n",
       "    <tr>\n",
       "      <th>7</th>\n",
       "      <td>ACRXKq6Ngtktnvf6rdcGwQ</td>\n",
       "      <td>Cracker Barrel Old Country Store</td>\n",
       "      <td>19.07</td>\n",
       "      <td>70.0</td>\n",
       "    </tr>\n",
       "    <tr>\n",
       "      <th>8</th>\n",
       "      <td>W3K_5U2KEw0gxK7cvuB2mw</td>\n",
       "      <td>Mitzie's Jerk</td>\n",
       "      <td>95.61</td>\n",
       "      <td>80.0</td>\n",
       "    </tr>\n",
       "    <tr>\n",
       "      <th>9</th>\n",
       "      <td>aBLx9JlAMq_AuW6VAImSwg</td>\n",
       "      <td>Zada Jane's Corner Cafe</td>\n",
       "      <td>91.33</td>\n",
       "      <td>70.0</td>\n",
       "    </tr>\n",
       "  </tbody>\n",
       "</table>\n",
       "</div>"
      ],
      "text/plain": [
       "              business_id                     business_name  our_score  stars\n",
       "0  s2B_ZeSGTlQ3qbm0dOY5rg     Hwy 55 Burgers Shakes & Fries     -80.60   60.0\n",
       "1  tYYJYqbw1zasFUCqrkawKQ                     Eagles Buffet      31.29   70.0\n",
       "2  wtDLILBaj5BGEbYvWGfNUw                       Duck Donuts      99.92   80.0\n",
       "3  Mnu3EPpuzu3UUN1PIwFRoQ                        Maui Pasta      99.95   90.0\n",
       "4  MrSHPvHVdE_VzVN7iRz45Q     Enso Asian Bistro & Sushi Bar      98.12   70.0\n",
       "5  qGtagj4xXNrF9rIEkiihTw                       Orchid Thai      99.92   90.0\n",
       "6  uejutOD4_-IUaY5cKkpezg   Rush Espresso Cafe and Wine Bar      96.26   80.0\n",
       "7  ACRXKq6Ngtktnvf6rdcGwQ  Cracker Barrel Old Country Store      19.07   70.0\n",
       "8  W3K_5U2KEw0gxK7cvuB2mw                     Mitzie's Jerk      95.61   80.0\n",
       "9  aBLx9JlAMq_AuW6VAImSwg           Zada Jane's Corner Cafe      91.33   70.0"
      ]
     },
     "execution_count": 12,
     "metadata": {},
     "output_type": "execute_result"
    }
   ],
   "source": [
    "final_results.head(10)"
   ]
  },
  {
   "cell_type": "code",
   "execution_count": 13,
   "metadata": {},
   "outputs": [
    {
     "data": {
      "text/plain": [
       "(0.36143587764695917, 0.00022020175044395904)"
      ]
     },
     "execution_count": 13,
     "metadata": {},
     "output_type": "execute_result"
    }
   ],
   "source": [
    "ss.pearsonr(final_results[\"our_score\"], final_results[\"stars\"])"
   ]
  },
  {
   "cell_type": "code",
   "execution_count": 14,
   "metadata": {},
   "outputs": [
    {
     "data": {
      "image/png": "[encoded data removed]",
      "text/plain": [
       "<Figure size 360x360 with 1 Axes>"
      ]
     },
     "metadata": {
      "needs_background": "light"
     },
     "output_type": "display_data"
    }
   ],
   "source": [
    "g = sns.lmplot(x=\"our_score\", y=\"stars\", data=final_results)"
   ]
  },
  {
   "cell_type": "code",
   "execution_count": 15,
   "metadata": {},
   "outputs": [
    {
     "data": {
      "text/html": [
       "<div>\n",
       "<style scoped>\n",
       "    .dataframe tbody tr th:only-of-type {\n",
       "        vertical-align: middle;\n",
       "    }\n",
       "\n",
       "    .dataframe tbody tr th {\n",
       "        vertical-align: top;\n",
       "    }\n",
       "\n",
       "    .dataframe thead th {\n",
       "        text-align: right;\n",
       "    }\n",
       "</style>\n",
       "<table border=\"1\" class=\"dataframe\">\n",
       "  <thead>\n",
       "    <tr style=\"text-align: right;\">\n",
       "      <th></th>\n",
       "      <th>our_score</th>\n",
       "      <th>stars</th>\n",
       "    </tr>\n",
       "  </thead>\n",
       "  <tbody>\n",
       "    <tr>\n",
       "      <th>our_score</th>\n",
       "      <td>1.000000</td>\n",
       "      <td>0.361436</td>\n",
       "    </tr>\n",
       "    <tr>\n",
       "      <th>stars</th>\n",
       "      <td>0.361436</td>\n",
       "      <td>1.000000</td>\n",
       "    </tr>\n",
       "  </tbody>\n",
       "</table>\n",
       "</div>"
      ],
      "text/plain": [
       "           our_score     stars\n",
       "our_score   1.000000  0.361436\n",
       "stars       0.361436  1.000000"
      ]
     },
     "execution_count": 15,
     "metadata": {},
     "output_type": "execute_result"
    }
   ],
   "source": [
    "final_results.filter(items=[\"our_score\",'stars']).corr()"
   ]
  }
 ],
 "metadata": {
  "kernelspec": {
   "display_name": "Python 3",
   "language": "python",
   "name": "python3"
  },
  "language_info": {
   "codemirror_mode": {
    "name": "ipython",
    "version": 3
   },
   "file_extension": ".py",
   "mimetype": "text/x-python",
   "name": "python",
   "nbconvert_exporter": "python",
   "pygments_lexer": "ipython3",
   "version": "3.7.6"
  }
 },
 "nbformat": 4,
 "nbformat_minor": 4
}
