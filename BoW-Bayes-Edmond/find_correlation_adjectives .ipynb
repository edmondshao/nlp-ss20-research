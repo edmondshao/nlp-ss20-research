{
 "cells": [
  {
   "cell_type": "code",
   "execution_count": 1,
   "metadata": {},
   "outputs": [
    {
     "name": "stderr",
     "output_type": "stream",
     "text": [
      "/Users/edmond/opt/anaconda3/lib/python3.7/site-packages/statsmodels/tools/_testing.py:19: FutureWarning: pandas.util.testing is deprecated. Use the functions in the public API at pandas.testing instead.\n",
      "  import pandas.util.testing as tm\n"
     ]
    }
   ],
   "source": [
    "#import the files \n",
    "import re \n",
    "import nltk\n",
    "import ssl\n",
    "import pandas as pd \n",
    "import numpy as np\n",
    "from nltk.corpus import stopwords\n",
    "from nltk.stem.porter import PorterStemmer\n",
    "from sklearn.feature_extraction.text import CountVectorizer\n",
    "from sklearn.naive_bayes import BernoulliNB\n",
    "import scipy.stats as ss\n",
    "import seaborn as sns "
   ]
  },
  {
   "cell_type": "code",
   "execution_count": 2,
   "metadata": {},
   "outputs": [],
   "source": [
    "stop_words = list(set(stopwords.words('english')))\n",
    "# JJ/R/S = adjective/comparitive/superlative\n",
    "allowed_word_types = [\"JJ\",\"JJR\",\"JJS\"]\n",
    "#open the data \n",
    "test_data = pd.read_csv('testing_set.csv')\n",
    "train_data = pd.read_csv('training_set.csv')"
   ]
  },
  {
   "cell_type": "code",
   "execution_count": 3,
   "metadata": {},
   "outputs": [],
   "source": [
    "#input tokenized list of words from review \n",
    "#return tokenized list without stop words \n",
    "def remove_stopword(data_input):\n",
    "    cleaned_words = []\n",
    "    for word in data_input: \n",
    "        if word not in stop_words: \n",
    "            cleaned_words.append(word)\n",
    "    return (cleaned_words)\n",
    "\n",
    "# input tokenized and pos tagged list \n",
    "# return list of just adjectives\n",
    "def only_adjectives(data_input):\n",
    "    cleaned_words = []\n",
    "    for word, pos in data_input: \n",
    "        if pos in allowed_word_types:\n",
    "            cleaned_words.append(word)\n",
    "    return (cleaned_words)"
   ]
  },
  {
   "cell_type": "code",
   "execution_count": 4,
   "metadata": {},
   "outputs": [],
   "source": [
    "#clean the training set for everything except for adjectives \n",
    "corpus = []\n",
    "\n",
    "#lower case \n",
    "train_data[\"Review\"] = train_data[\"Review\"].apply(lambda x:x.lower())\n",
    "#get rid of punctuation\n",
    "train_data[\"Review\"] = train_data[\"Review\"].apply(lambda x:re.sub('[^a-zA-Z]',' ',x))\n",
    "#split\n",
    "train_data[\"Review\"] = train_data[\"Review\"].apply(lambda x:x.split())\n",
    "#remove the stop words \n",
    "train_data[\"Review\"] = train_data[\"Review\"].apply(lambda x: remove_stopword(x))\n",
    "\n",
    "#pos tag --> creates tuple (word,pos-tag)\n",
    "train_data[\"Review\"] = train_data[\"Review\"] = train_data[\"Review\"].apply(lambda x:nltk.pos_tag(x))\n",
    "#Select only adjectives and remove pos-tags\n",
    "train_data[\"Review\"] = train_data[\"Review\"].apply(lambda x:only_adjectives(x))\n"
   ]
  },
  {
   "cell_type": "code",
   "execution_count": 5,
   "metadata": {},
   "outputs": [],
   "source": [
    "\n",
    "#create list of all adjectives from reviews in train_data\n",
    "all_review_train = []\n",
    "for row in train_data[\"Review\"]:\n",
    "    for word in row:\n",
    "        all_review_train.append(word)"
   ]
  },
  {
   "cell_type": "code",
   "execution_count": 6,
   "metadata": {},
   "outputs": [
    {
     "data": {
      "text/plain": [
       "CountVectorizer(analyzer='word', binary=False, decode_error='strict',\n",
       "                dtype=<class 'numpy.int64'>, encoding='utf-8', input='content',\n",
       "                lowercase=True, max_df=1.0, max_features=None, min_df=1,\n",
       "                ngram_range=(1, 1), preprocessor=None, stop_words=None,\n",
       "                strip_accents=None, token_pattern='(?u)\\\\b\\\\w\\\\w+\\\\b',\n",
       "                tokenizer=None, vocabulary=None)"
      ]
     },
     "execution_count": 6,
     "metadata": {},
     "output_type": "execute_result"
    }
   ],
   "source": [
    "# BoW using count vectorizer \n",
    "cv = CountVectorizer()\n",
    "cv.fit(all_review_train)"
   ]
  },
  {
   "cell_type": "code",
   "execution_count": 8,
   "metadata": {},
   "outputs": [
    {
     "name": "stdout",
     "output_type": "stream",
     "text": [
      "Confusion Matrix:\n",
      " [[109  26]\n",
      " [ 60 105]]\n",
      "\n",
      "\n",
      "Accuracy is  71.33 %\n",
      "Precision is  0.8\n",
      "Recall is  0.64\n"
     ]
    }
   ],
   "source": [
    "train_data_2 = pd.read_csv('training_set.csv')\n",
    "\n",
    "#do fit_transform override the previous \n",
    "X_train = cv.transform(train_data_2[\"Review\"]).toarray()\n",
    "y_train = train_data_2[\"Liked\"].values\n",
    "\n",
    "#train the model \n",
    "classifier = BernoulliNB(alpha=0.8)\n",
    "classifier.fit(X_train, y_train)\n",
    "\n",
    "# import the testing dataset \n",
    "test_data = pd.read_csv('testing_set.csv')\n",
    "#vectorize the testing data \n",
    "X_test = cv.transform(test_data[\"Review\"]).toarray()\n",
    "y_test = test_data[\"Liked\"].values\n",
    "\n",
    "# Predicting the Test set results\n",
    "y_pred = classifier.predict(X_test)\n",
    "\n",
    "# Making the Confusion Matrix\n",
    "from sklearn.metrics import confusion_matrix\n",
    "cm = confusion_matrix(y_test, y_pred)\n",
    "print (\"Confusion Matrix:\\n\",cm)\n",
    "\n",
    "# Accuracy, Precision and Recall\n",
    "from sklearn.metrics import accuracy_score\n",
    "from sklearn.metrics import precision_score\n",
    "from sklearn.metrics import recall_score\n",
    "score1 = accuracy_score(y_test,y_pred)\n",
    "score2 = precision_score(y_test,y_pred)\n",
    "score3= recall_score(y_test,y_pred)\n",
    "print(\"\\n\")\n",
    "print(\"Accuracy is \",round(score1*100,2),\"%\")\n",
    "print(\"Precision is \",round(score2,2))\n",
    "print(\"Recall is \",round(score3,2))\n",
    "\n"
   ]
  },
  {
   "cell_type": "code",
   "execution_count": 9,
   "metadata": {},
   "outputs": [],
   "source": [
    "#import the resturant data and reviews \n",
    "business = pd.read_csv(\"cleaned_business.csv\")\n",
    "reviews = pd.read_csv(\"cleanish_reviews.csv\") \n",
    "ids = pd.read_csv('list_buiss_id.txt', sep=\" \", header=None)\n",
    "ids.columns = [\"id\"]"
   ]
  },
  {
   "cell_type": "code",
   "execution_count": 12,
   "metadata": {},
   "outputs": [],
   "source": [
    "columns = [\"business_id\", \"business_name\", \"our_score\", \"stars\"]\n",
    "final_results = pd.DataFrame(columns=columns)\n",
    "for i in range(len(ids)): \n",
    "    id_curr = ids.iloc[i].id\n",
    "    \n",
    "    \n",
    "    #Review data that matches the current business id \n",
    "    all_reviews = reviews[reviews[\"business_id\"] == id_curr]\n",
    "    \n",
    "    #vectorize the reviews for that resturant \n",
    "    X_test = cv.transform(all_reviews[\"text\"]).toarray()\n",
    "    #creates the predicted sentiment for each review \n",
    "    y_pred = classifier.predict(X_test)\n",
    "    #you dont have to round \n",
    "    y_pred = np.mean(y_pred)*100\n",
    "    #get the row in dataframe of current buis \n",
    "    curr_buis = business.loc[business['business_id'] == id_curr]\n",
    "    #modify the star ratings to the same scale \n",
    "    curr_star = (curr_buis[\"stars\"].values[0]/5)*100\n",
    "    #update the final dataframe with all the info \n",
    "    \n",
    "    final_results = final_results.append({\"business_id\":id_curr, \"business_name\":curr_buis[\"name\"].values[0],\"our_score\":y_pred, \"stars\":curr_star}, ignore_index = True)"
   ]
  },
  {
   "cell_type": "code",
   "execution_count": 13,
   "metadata": {},
   "outputs": [
    {
     "data": {
      "text/plain": [
       "(0.8030835169169852, 9.17691372936888e-24)"
      ]
     },
     "execution_count": 13,
     "metadata": {},
     "output_type": "execute_result"
    }
   ],
   "source": [
    "# Find the correlation\n",
    "ss.pearsonr(final_results[\"our_score\"], final_results[\"stars\"])"
   ]
  },
  {
   "cell_type": "code",
   "execution_count": 14,
   "metadata": {},
   "outputs": [
    {
     "data": {
      "image/png": "[encoded data removed]",
      "text/plain": [
       "<Figure size 360x360 with 1 Axes>"
      ]
     },
     "metadata": {
      "needs_background": "light"
     },
     "output_type": "display_data"
    }
   ],
   "source": [
    "#visualize the correlation so we can insert into the paper \n",
    "g = sns.lmplot(x=\"our_score\", y=\"stars\", data=final_results)"
   ]
  },
  {
   "cell_type": "code",
   "execution_count": 15,
   "metadata": {},
   "outputs": [
    {
     "data": {
      "text/html": [
       "<div>\n",
       "<style scoped>\n",
       "    .dataframe tbody tr th:only-of-type {\n",
       "        vertical-align: middle;\n",
       "    }\n",
       "\n",
       "    .dataframe tbody tr th {\n",
       "        vertical-align: top;\n",
       "    }\n",
       "\n",
       "    .dataframe thead th {\n",
       "        text-align: right;\n",
       "    }\n",
       "</style>\n",
       "<table border=\"1\" class=\"dataframe\">\n",
       "  <thead>\n",
       "    <tr style=\"text-align: right;\">\n",
       "      <th></th>\n",
       "      <th>our_score</th>\n",
       "      <th>stars</th>\n",
       "    </tr>\n",
       "  </thead>\n",
       "  <tbody>\n",
       "    <tr>\n",
       "      <th>our_score</th>\n",
       "      <td>1.000000</td>\n",
       "      <td>0.803084</td>\n",
       "    </tr>\n",
       "    <tr>\n",
       "      <th>stars</th>\n",
       "      <td>0.803084</td>\n",
       "      <td>1.000000</td>\n",
       "    </tr>\n",
       "  </tbody>\n",
       "</table>\n",
       "</div>"
      ],
      "text/plain": [
       "           our_score     stars\n",
       "our_score   1.000000  0.803084\n",
       "stars       0.803084  1.000000"
      ]
     },
     "execution_count": 15,
     "metadata": {},
     "output_type": "execute_result"
    }
   ],
   "source": [
    "final_results.filter(items=[\"our_score\",'stars']).corr()"
   ]
  },
  {
   "cell_type": "code",
   "execution_count": null,
   "metadata": {},
   "outputs": [],
   "source": []
  }
 ],
 "metadata": {
  "kernelspec": {
   "display_name": "Python 3",
   "language": "python",
   "name": "python3"
  },
  "language_info": {
   "codemirror_mode": {
    "name": "ipython",
    "version": 3
   },
   "file_extension": ".py",
   "mimetype": "text/x-python",
   "name": "python",
   "nbconvert_exporter": "python",
   "pygments_lexer": "ipython3",
   "version": "3.7.4"
  }
 },
 "nbformat": 4,
 "nbformat_minor": 2
}
